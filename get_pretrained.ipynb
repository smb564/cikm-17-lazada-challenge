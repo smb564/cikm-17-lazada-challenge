{
 "cells": [
  {
   "cell_type": "code",
   "execution_count": 1,
   "metadata": {},
   "outputs": [],
   "source": [
    "import numpy as np\n",
    "import pickle"
   ]
  },
  {
   "cell_type": "code",
   "execution_count": 2,
   "metadata": {},
   "outputs": [
    {
     "name": "stdout",
     "output_type": "stream",
     "text": [
      "48007 words unknown\n"
     ]
    }
   ],
   "source": [
    "## load from pickle\n",
    "with open(\"word2id.pickle\") as f:\n",
    "    word2id = pickle.load(f)\n",
    "\n",
    "## load pretrained embeddings\n",
    "# embed_path = \"../../../FYP/Discussion Pathways/Pretrained Word Embeddings/glove.twitter.27B/glove.twitter.27B.50d.txt\"\n",
    "embed_path = \"../../../FYP/Discussion Pathways/Aspect Extraction Implementations/With-domain-specific-embeddings/Double-Embeddings-and-CNN-based-Sequence-Labeling-for-Aspect-Extraction/data/embedding/gen.vec\"\n",
    "\n",
    "pre_embed = {}\n",
    "\n",
    "with open(embed_path) as f:\n",
    "    for line in f:\n",
    "        line = line.split()\n",
    "        pre_embed[line[0]] = np.array(map(float, line[1:]), dtype=np.float32)\n",
    "        \n",
    "embed_matrix = np.random.randn(len(word2id), len(pre_embed[pre_embed.keys()[0]]))\n",
    "unknowns = []\n",
    "\n",
    "for word in word2id:\n",
    "    if word in pre_embed:\n",
    "        embed_matrix[word2id[word]] = pre_embed[word]\n",
    "    else:\n",
    "        unknowns.append(word)\n",
    "\n",
    "print len(unknowns), 'words unknown'"
   ]
  },
  {
   "cell_type": "code",
   "execution_count": 10,
   "metadata": {},
   "outputs": [],
   "source": [
    "import codecs\n",
    "\n",
    "with codecs.open(\"oov.txt\", \"w\", encoding='utf-8') as f:\n",
    "    f.write(\"\\n\".join(unknowns))"
   ]
  },
  {
   "cell_type": "code",
   "execution_count": 7,
   "metadata": {},
   "outputs": [
    {
     "name": "stdout",
     "output_type": "stream",
     "text": [
      "5942 oov vectors filled\n"
     ]
    }
   ],
   "source": [
    "# load the oov vectors obtained using fastText\n",
    "count = 0\n",
    "with codecs.open(\"oov_vectors.txt\", encoding='utf-8') as f:\n",
    "    for line in f:\n",
    "        count += 1\n",
    "        line = line.split()\n",
    "        embed_matrix[word2id[line[0]]] = np.array(map(float, line[1:]), dtype=np.float32)\n",
    "print count, \"oov vectors filled\""
   ]
  },
  {
   "cell_type": "code",
   "execution_count": 6,
   "metadata": {},
   "outputs": [
    {
     "data": {
      "text/plain": [
       "85975"
      ]
     },
     "execution_count": 6,
     "metadata": {},
     "output_type": "execute_result"
    }
   ],
   "source": [
    "len(word2id)"
   ]
  }
 ],
 "metadata": {
  "kernelspec": {
   "display_name": "Python 2",
   "language": "python",
   "name": "python2"
  },
  "language_info": {
   "codemirror_mode": {
    "name": "ipython",
    "version": 2
   },
   "file_extension": ".py",
   "mimetype": "text/x-python",
   "name": "python",
   "nbconvert_exporter": "python",
   "pygments_lexer": "ipython2",
   "version": "2.7.12"
  }
 },
 "nbformat": 4,
 "nbformat_minor": 2
}
